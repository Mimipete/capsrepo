{
 "cells": [
  {
   "cell_type": "markdown",
   "id": "98f0b368-8126-40ad-b840-a368f434e346",
   "metadata": {},
   "source": [
    "# Exercise One"
   ]
  },
  {
   "cell_type": "code",
   "execution_count": 2,
   "id": "f3606627-2f8c-4892-8a06-29073ea64228",
   "metadata": {
    "tags": []
   },
   "outputs": [
    {
     "data": {
      "text/plain": [
       "' Hello, Python!'"
      ]
     },
     "execution_count": 2,
     "metadata": {},
     "output_type": "execute_result"
    }
   ],
   "source": [
    "# Try your first python output\n",
    "\" Hello, Python!\""
   ]
  },
  {
   "cell_type": "markdown",
   "id": "e13fd3e8-71fe-40a8-9c33-4cc0350455d8",
   "metadata": {},
   "source": [
    "# Display an Integer"
   ]
  },
  {
   "cell_type": "code",
   "execution_count": 3,
   "id": "e224ed2a-7813-4fce-9506-dcf2739167d6",
   "metadata": {
    "tags": []
   },
   "outputs": [
    {
     "data": {
      "text/plain": [
       "2"
      ]
     },
     "execution_count": 3,
     "metadata": {},
     "output_type": "execute_result"
    }
   ],
   "source": [
    "# print an integer \n",
    "2"
   ]
  },
  {
   "cell_type": "markdown",
   "id": "f083a8ab-fbf1-42e9-beb3-e7ce182db940",
   "metadata": {},
   "source": [
    "# Mathematical operations"
   ]
  },
  {
   "cell_type": "code",
   "execution_count": 4,
   "id": "368b5688-abc6-431e-805c-e2af972e2079",
   "metadata": {
    "tags": []
   },
   "outputs": [
    {
     "data": {
      "text/plain": [
       "4"
      ]
     },
     "execution_count": 4,
     "metadata": {},
     "output_type": "execute_result"
    }
   ],
   "source": [
    "# Addition operations\n",
    "2+2"
   ]
  },
  {
   "cell_type": "code",
   "execution_count": 5,
   "id": "7f24a586-cc17-405c-b039-4dfadb38f2a7",
   "metadata": {
    "tags": []
   },
   "outputs": [
    {
     "data": {
      "text/plain": [
       "8.75"
      ]
     },
     "execution_count": 5,
     "metadata": {},
     "output_type": "execute_result"
    }
   ],
   "source": [
    "# Multiplication operations\n",
    "2.5*3.5\n"
   ]
  },
  {
   "cell_type": "markdown",
   "id": "32d4bc8e-65cf-436d-9009-309b25198fcc",
   "metadata": {},
   "source": [
    "# Exercise Two"
   ]
  },
  {
   "cell_type": "code",
   "execution_count": null,
   "id": "b9a2b9dd-1c6e-4b7a-bdbe-9252bad0b38f",
   "metadata": {},
   "outputs": [],
   "source": [
    "# create a new code cell below this code cell and type in 4.5 and execute it "
   ]
  },
  {
   "cell_type": "code",
   "execution_count": 6,
   "id": "426ab8ba-7f61-4c70-be25-ef4ea9a2f2df",
   "metadata": {
    "tags": []
   },
   "outputs": [
    {
     "data": {
      "text/plain": [
       "4.5"
      ]
     },
     "execution_count": 6,
     "metadata": {},
     "output_type": "execute_result"
    }
   ],
   "source": [
    "4.5"
   ]
  },
  {
   "cell_type": "markdown",
   "id": "0a264f1c-a217-4ec0-9f85-ced7a0edd491",
   "metadata": {},
   "source": [
    "# Exercise Three"
   ]
  },
  {
   "cell_type": "code",
   "execution_count": 8,
   "id": "c6dd4da2-fd92-4678-9828-52cbbc7fab3b",
   "metadata": {
    "tags": []
   },
   "outputs": [],
   "source": [
    "## Select this cell and delete it"
   ]
  },
  {
   "cell_type": "markdown",
   "id": "9967734b-498c-43a5-9b38-27d928c497b4",
   "metadata": {},
   "source": [
    "# Exercise Four"
   ]
  },
  {
   "cell_type": "code",
   "execution_count": 10,
   "id": "74f815e9-7edd-4ec2-9bcb-4eada4b92884",
   "metadata": {
    "tags": []
   },
   "outputs": [
    {
     "data": {
      "text/plain": [
       "5"
      ]
     },
     "execution_count": 10,
     "metadata": {},
     "output_type": "execute_result"
    }
   ],
   "source": [
    "# Execute this cell by clicking Shift + Enter\n",
    "2+3"
   ]
  },
  {
   "cell_type": "code",
   "execution_count": 11,
   "id": "e5728d59-1785-4dd5-bb2b-99732bd21d44",
   "metadata": {
    "tags": []
   },
   "outputs": [],
   "source": [
    "# Execute this cell by clicking Shift + Enter\n",
    "# 2+3"
   ]
  },
  {
   "cell_type": "markdown",
   "id": "3dbb0f01-dee5-4e63-8940-9acb21750c7a",
   "metadata": {},
   "source": [
    "# Exercise Five"
   ]
  },
  {
   "cell_type": "markdown",
   "id": "2766f80c-260e-4937-bc08-e2bbd635b4fe",
   "metadata": {},
   "source": [
    "# change code cell to markdown and write the text\n",
    "My First Markdown"
   ]
  },
  {
   "cell_type": "markdown",
   "id": "b052caec-504c-4e99-b70c-9a01ad24414f",
   "metadata": {},
   "source": [
    "# Practice Excersise"
   ]
  },
  {
   "cell_type": "markdown",
   "id": "60ede16c-56a2-4b08-83da-fe3329f39554",
   "metadata": {},
   "source": [
    "# Evaluating Basic Arithmetic Expressions"
   ]
  },
  {
   "cell_type": "code",
   "execution_count": 13,
   "id": "3bca7e6e-54e9-4989-9b96-54aa4d6c8478",
   "metadata": {
    "tags": []
   },
   "outputs": [
    {
     "data": {
      "text/plain": [
       "100"
      ]
     },
     "execution_count": 13,
     "metadata": {},
     "output_type": "execute_result"
    }
   ],
   "source": [
    "# Execute \n",
    "(20+5)*4"
   ]
  },
  {
   "cell_type": "markdown",
   "id": "59143160-a0b6-47e7-a36f-c549af5221e9",
   "metadata": {},
   "source": [
    "# Displaying a String Message\n",
    "\"Let us explore python without coding.\""
   ]
  },
  {
   "cell_type": "code",
   "execution_count": null,
   "id": "f0a5b056-7704-4a40-8b6a-123c35563462",
   "metadata": {},
   "outputs": [],
   "source": [
    "## click after 1+1 in this cell and split it\n",
    "1+1"
   ]
  },
  {
   "cell_type": "code",
   "execution_count": null,
   "id": "d9d17a52-7347-4227-9d31-49eef62bb95f",
   "metadata": {},
   "outputs": [],
   "source": [
    "2*2"
   ]
  }
 ],
 "metadata": {
  "kernelspec": {
   "display_name": "Python 3 (ipykernel)",
   "language": "python",
   "name": "python3"
  },
  "language_info": {
   "codemirror_mode": {
    "name": "ipython",
    "version": 3
   },
   "file_extension": ".py",
   "mimetype": "text/x-python",
   "name": "python",
   "nbconvert_exporter": "python",
   "pygments_lexer": "ipython3",
   "version": "3.12.3"
  }
 },
 "nbformat": 4,
 "nbformat_minor": 5
}
